{
 "cells": [
  {
   "cell_type": "code",
   "execution_count": null,
   "id": "aea21248-29b7-4a41-b3b8-defe73201403",
   "metadata": {},
   "outputs": [],
   "source": [
    "Ans 1  Abstration is the process of hiding the internal datails of an application from the outer world.\n",
    "        for example when we are driving a car ,we are only concerned about driving a car like start/stop,accelerate/brake etc"
   ]
  },
  {
   "cell_type": "code",
   "execution_count": null,
   "id": "625fa922-f2ab-4ef0-8f7a-50317d332e76",
   "metadata": {},
   "outputs": [],
   "source": [
    "Ans 2 Abstraton is a way of representing a specific data whereas in encapsuation a way of hiding the complexity of something and show\n",
    "      only the parts you wish to expose.\n",
    "     for example if you have a class that has one or more private field that you see to store the data,then you are in encapsulation."
   ]
  },
  {
   "cell_type": "code",
   "execution_count": null,
   "id": "5952cb12-28f1-4316-a5d7-42ba16571ac7",
   "metadata": {},
   "outputs": [],
   "source": [
    "Ans 3 abc module in python library provide the infrastructure for defining the custom abstract base class \n",
    "      Abstract class cannot be instantiated in python.An Abstract method can be call by its subclasses."
   ]
  },
  {
   "cell_type": "code",
   "execution_count": null,
   "id": "b0195022-0d06-4b84-ac80-9122c49103b4",
   "metadata": {},
   "outputs": [],
   "source": [
    "Ans 4 data abstraction in python can be achieved by creating an abstract classes and inheriting  them later."
   ]
  },
  {
   "cell_type": "code",
   "execution_count": null,
   "id": "3db7e1d1-8304-48e9-a2e1-02a13e15aa00",
   "metadata": {},
   "outputs": [],
   "source": [
    "Ans 5 Abstract class cannot be instantiated ,but they can be subclassed.when an abstract class is subclassed \n",
    "      the subclass usually provides implementation for all of the abstract class "
   ]
  }
 ],
 "metadata": {
  "kernelspec": {
   "display_name": "Python 3 (ipykernel)",
   "language": "python",
   "name": "python3"
  },
  "language_info": {
   "codemirror_mode": {
    "name": "ipython",
    "version": 3
   },
   "file_extension": ".py",
   "mimetype": "text/x-python",
   "name": "python",
   "nbconvert_exporter": "python",
   "pygments_lexer": "ipython3",
   "version": "3.10.8"
  }
 },
 "nbformat": 4,
 "nbformat_minor": 5
}
